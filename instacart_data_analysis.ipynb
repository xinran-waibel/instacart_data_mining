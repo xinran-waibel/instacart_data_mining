{
 "cells": [
  {
   "cell_type": "markdown",
   "metadata": {},
   "source": [
    "## Analyze 3 Million Grocery Orders Data with Spark"
   ]
  },
  {
   "cell_type": "markdown",
   "metadata": {},
   "source": [
    "### Import Python libraries"
   ]
  },
  {
   "cell_type": "code",
   "execution_count": 1,
   "metadata": {
    "collapsed": true
   },
   "outputs": [],
   "source": [
    "import pandas as pd\n",
    "import pyspark\n",
    "from pyspark.sql import SparkSession\n",
    "import matplotlib.pyplot as plt\n",
    "from matplotlib.ticker import FuncFormatter\n",
    "import math\n",
    "from pyspark.ml.regression import LinearRegression\n",
    "from pyspark.ml.linalg import Vectors\n",
    "from pyspark.ml.feature import VectorAssembler"
   ]
  },
  {
   "cell_type": "markdown",
   "metadata": {},
   "source": [
    "### Load normalized csv data"
   ]
  },
  {
   "cell_type": "code",
   "execution_count": 2,
   "metadata": {
    "collapsed": true
   },
   "outputs": [],
   "source": [
    "aisles = pd.read_csv('data/aisles.csv')\n",
    "departments = pd.read_csv('data/departments.csv')\n",
    "products = pd.read_csv('data/products.csv')\n",
    "orders = pd.read_csv('data/orders.csv')\n",
    "order_detail_small = pd.read_csv('data/order_products__train.csv')"
   ]
  },
  {
   "cell_type": "markdown",
   "metadata": {},
   "source": [
    "### Preview normalized data"
   ]
  },
  {
   "cell_type": "code",
   "execution_count": 3,
   "metadata": {
    "scrolled": true
   },
   "outputs": [
    {
     "data": {
      "text/html": [
       "<div>\n",
       "<style>\n",
       "    .dataframe thead tr:only-child th {\n",
       "        text-align: right;\n",
       "    }\n",
       "\n",
       "    .dataframe thead th {\n",
       "        text-align: left;\n",
       "    }\n",
       "\n",
       "    .dataframe tbody tr th {\n",
       "        vertical-align: top;\n",
       "    }\n",
       "</style>\n",
       "<table border=\"1\" class=\"dataframe\">\n",
       "  <thead>\n",
       "    <tr style=\"text-align: right;\">\n",
       "      <th></th>\n",
       "      <th>aisle_id</th>\n",
       "      <th>aisle</th>\n",
       "    </tr>\n",
       "  </thead>\n",
       "  <tbody>\n",
       "    <tr>\n",
       "      <th>0</th>\n",
       "      <td>1</td>\n",
       "      <td>prepared soups salads</td>\n",
       "    </tr>\n",
       "    <tr>\n",
       "      <th>1</th>\n",
       "      <td>2</td>\n",
       "      <td>specialty cheeses</td>\n",
       "    </tr>\n",
       "    <tr>\n",
       "      <th>2</th>\n",
       "      <td>3</td>\n",
       "      <td>energy granola bars</td>\n",
       "    </tr>\n",
       "    <tr>\n",
       "      <th>3</th>\n",
       "      <td>4</td>\n",
       "      <td>instant foods</td>\n",
       "    </tr>\n",
       "    <tr>\n",
       "      <th>4</th>\n",
       "      <td>5</td>\n",
       "      <td>marinades meat preparation</td>\n",
       "    </tr>\n",
       "  </tbody>\n",
       "</table>\n",
       "</div>"
      ],
      "text/plain": [
       "   aisle_id                       aisle\n",
       "0         1       prepared soups salads\n",
       "1         2           specialty cheeses\n",
       "2         3         energy granola bars\n",
       "3         4               instant foods\n",
       "4         5  marinades meat preparation"
      ]
     },
     "execution_count": 3,
     "metadata": {},
     "output_type": "execute_result"
    }
   ],
   "source": [
    "aisles.head()"
   ]
  },
  {
   "cell_type": "code",
   "execution_count": 4,
   "metadata": {},
   "outputs": [
    {
     "data": {
      "text/html": [
       "<div>\n",
       "<style>\n",
       "    .dataframe thead tr:only-child th {\n",
       "        text-align: right;\n",
       "    }\n",
       "\n",
       "    .dataframe thead th {\n",
       "        text-align: left;\n",
       "    }\n",
       "\n",
       "    .dataframe tbody tr th {\n",
       "        vertical-align: top;\n",
       "    }\n",
       "</style>\n",
       "<table border=\"1\" class=\"dataframe\">\n",
       "  <thead>\n",
       "    <tr style=\"text-align: right;\">\n",
       "      <th></th>\n",
       "      <th>department_id</th>\n",
       "      <th>department</th>\n",
       "    </tr>\n",
       "  </thead>\n",
       "  <tbody>\n",
       "    <tr>\n",
       "      <th>0</th>\n",
       "      <td>1</td>\n",
       "      <td>frozen</td>\n",
       "    </tr>\n",
       "    <tr>\n",
       "      <th>1</th>\n",
       "      <td>2</td>\n",
       "      <td>other</td>\n",
       "    </tr>\n",
       "    <tr>\n",
       "      <th>2</th>\n",
       "      <td>3</td>\n",
       "      <td>bakery</td>\n",
       "    </tr>\n",
       "    <tr>\n",
       "      <th>3</th>\n",
       "      <td>4</td>\n",
       "      <td>produce</td>\n",
       "    </tr>\n",
       "    <tr>\n",
       "      <th>4</th>\n",
       "      <td>5</td>\n",
       "      <td>alcohol</td>\n",
       "    </tr>\n",
       "  </tbody>\n",
       "</table>\n",
       "</div>"
      ],
      "text/plain": [
       "   department_id department\n",
       "0              1     frozen\n",
       "1              2      other\n",
       "2              3     bakery\n",
       "3              4    produce\n",
       "4              5    alcohol"
      ]
     },
     "execution_count": 4,
     "metadata": {},
     "output_type": "execute_result"
    }
   ],
   "source": [
    "departments.head()"
   ]
  },
  {
   "cell_type": "code",
   "execution_count": 5,
   "metadata": {},
   "outputs": [
    {
     "data": {
      "text/html": [
       "<div>\n",
       "<style>\n",
       "    .dataframe thead tr:only-child th {\n",
       "        text-align: right;\n",
       "    }\n",
       "\n",
       "    .dataframe thead th {\n",
       "        text-align: left;\n",
       "    }\n",
       "\n",
       "    .dataframe tbody tr th {\n",
       "        vertical-align: top;\n",
       "    }\n",
       "</style>\n",
       "<table border=\"1\" class=\"dataframe\">\n",
       "  <thead>\n",
       "    <tr style=\"text-align: right;\">\n",
       "      <th></th>\n",
       "      <th>product_id</th>\n",
       "      <th>product_name</th>\n",
       "      <th>aisle_id</th>\n",
       "      <th>department_id</th>\n",
       "    </tr>\n",
       "  </thead>\n",
       "  <tbody>\n",
       "    <tr>\n",
       "      <th>0</th>\n",
       "      <td>1</td>\n",
       "      <td>Chocolate Sandwich Cookies</td>\n",
       "      <td>61</td>\n",
       "      <td>19</td>\n",
       "    </tr>\n",
       "    <tr>\n",
       "      <th>1</th>\n",
       "      <td>2</td>\n",
       "      <td>All-Seasons Salt</td>\n",
       "      <td>104</td>\n",
       "      <td>13</td>\n",
       "    </tr>\n",
       "    <tr>\n",
       "      <th>2</th>\n",
       "      <td>3</td>\n",
       "      <td>Robust Golden Unsweetened Oolong Tea</td>\n",
       "      <td>94</td>\n",
       "      <td>7</td>\n",
       "    </tr>\n",
       "    <tr>\n",
       "      <th>3</th>\n",
       "      <td>4</td>\n",
       "      <td>Smart Ones Classic Favorites Mini Rigatoni Wit...</td>\n",
       "      <td>38</td>\n",
       "      <td>1</td>\n",
       "    </tr>\n",
       "    <tr>\n",
       "      <th>4</th>\n",
       "      <td>5</td>\n",
       "      <td>Green Chile Anytime Sauce</td>\n",
       "      <td>5</td>\n",
       "      <td>13</td>\n",
       "    </tr>\n",
       "  </tbody>\n",
       "</table>\n",
       "</div>"
      ],
      "text/plain": [
       "   product_id                                       product_name  aisle_id  \\\n",
       "0           1                         Chocolate Sandwich Cookies        61   \n",
       "1           2                                   All-Seasons Salt       104   \n",
       "2           3               Robust Golden Unsweetened Oolong Tea        94   \n",
       "3           4  Smart Ones Classic Favorites Mini Rigatoni Wit...        38   \n",
       "4           5                          Green Chile Anytime Sauce         5   \n",
       "\n",
       "   department_id  \n",
       "0             19  \n",
       "1             13  \n",
       "2              7  \n",
       "3              1  \n",
       "4             13  "
      ]
     },
     "execution_count": 5,
     "metadata": {},
     "output_type": "execute_result"
    }
   ],
   "source": [
    "products.head()"
   ]
  },
  {
   "cell_type": "code",
   "execution_count": 6,
   "metadata": {
    "scrolled": true
   },
   "outputs": [
    {
     "data": {
      "text/html": [
       "<div>\n",
       "<style>\n",
       "    .dataframe thead tr:only-child th {\n",
       "        text-align: right;\n",
       "    }\n",
       "\n",
       "    .dataframe thead th {\n",
       "        text-align: left;\n",
       "    }\n",
       "\n",
       "    .dataframe tbody tr th {\n",
       "        vertical-align: top;\n",
       "    }\n",
       "</style>\n",
       "<table border=\"1\" class=\"dataframe\">\n",
       "  <thead>\n",
       "    <tr style=\"text-align: right;\">\n",
       "      <th></th>\n",
       "      <th>order_id</th>\n",
       "      <th>user_id</th>\n",
       "      <th>eval_set</th>\n",
       "      <th>order_number</th>\n",
       "      <th>order_dow</th>\n",
       "      <th>order_hour_of_day</th>\n",
       "      <th>days_since_prior_order</th>\n",
       "    </tr>\n",
       "  </thead>\n",
       "  <tbody>\n",
       "    <tr>\n",
       "      <th>0</th>\n",
       "      <td>2539329</td>\n",
       "      <td>1</td>\n",
       "      <td>prior</td>\n",
       "      <td>1</td>\n",
       "      <td>2</td>\n",
       "      <td>8</td>\n",
       "      <td>NaN</td>\n",
       "    </tr>\n",
       "    <tr>\n",
       "      <th>1</th>\n",
       "      <td>2398795</td>\n",
       "      <td>1</td>\n",
       "      <td>prior</td>\n",
       "      <td>2</td>\n",
       "      <td>3</td>\n",
       "      <td>7</td>\n",
       "      <td>15.0</td>\n",
       "    </tr>\n",
       "    <tr>\n",
       "      <th>2</th>\n",
       "      <td>473747</td>\n",
       "      <td>1</td>\n",
       "      <td>prior</td>\n",
       "      <td>3</td>\n",
       "      <td>3</td>\n",
       "      <td>12</td>\n",
       "      <td>21.0</td>\n",
       "    </tr>\n",
       "    <tr>\n",
       "      <th>3</th>\n",
       "      <td>2254736</td>\n",
       "      <td>1</td>\n",
       "      <td>prior</td>\n",
       "      <td>4</td>\n",
       "      <td>4</td>\n",
       "      <td>7</td>\n",
       "      <td>29.0</td>\n",
       "    </tr>\n",
       "    <tr>\n",
       "      <th>4</th>\n",
       "      <td>431534</td>\n",
       "      <td>1</td>\n",
       "      <td>prior</td>\n",
       "      <td>5</td>\n",
       "      <td>4</td>\n",
       "      <td>15</td>\n",
       "      <td>28.0</td>\n",
       "    </tr>\n",
       "  </tbody>\n",
       "</table>\n",
       "</div>"
      ],
      "text/plain": [
       "   order_id  user_id eval_set  order_number  order_dow  order_hour_of_day  \\\n",
       "0   2539329        1    prior             1          2                  8   \n",
       "1   2398795        1    prior             2          3                  7   \n",
       "2    473747        1    prior             3          3                 12   \n",
       "3   2254736        1    prior             4          4                  7   \n",
       "4    431534        1    prior             5          4                 15   \n",
       "\n",
       "   days_since_prior_order  \n",
       "0                     NaN  \n",
       "1                    15.0  \n",
       "2                    21.0  \n",
       "3                    29.0  \n",
       "4                    28.0  "
      ]
     },
     "execution_count": 6,
     "metadata": {},
     "output_type": "execute_result"
    }
   ],
   "source": [
    "orders.head()"
   ]
  },
  {
   "cell_type": "code",
   "execution_count": 7,
   "metadata": {},
   "outputs": [
    {
     "data": {
      "text/html": [
       "<div>\n",
       "<style>\n",
       "    .dataframe thead tr:only-child th {\n",
       "        text-align: right;\n",
       "    }\n",
       "\n",
       "    .dataframe thead th {\n",
       "        text-align: left;\n",
       "    }\n",
       "\n",
       "    .dataframe tbody tr th {\n",
       "        vertical-align: top;\n",
       "    }\n",
       "</style>\n",
       "<table border=\"1\" class=\"dataframe\">\n",
       "  <thead>\n",
       "    <tr style=\"text-align: right;\">\n",
       "      <th></th>\n",
       "      <th>order_id</th>\n",
       "      <th>product_id</th>\n",
       "      <th>add_to_cart_order</th>\n",
       "      <th>reordered</th>\n",
       "    </tr>\n",
       "  </thead>\n",
       "  <tbody>\n",
       "    <tr>\n",
       "      <th>0</th>\n",
       "      <td>1</td>\n",
       "      <td>49302</td>\n",
       "      <td>1</td>\n",
       "      <td>1</td>\n",
       "    </tr>\n",
       "    <tr>\n",
       "      <th>1</th>\n",
       "      <td>1</td>\n",
       "      <td>11109</td>\n",
       "      <td>2</td>\n",
       "      <td>1</td>\n",
       "    </tr>\n",
       "    <tr>\n",
       "      <th>2</th>\n",
       "      <td>1</td>\n",
       "      <td>10246</td>\n",
       "      <td>3</td>\n",
       "      <td>0</td>\n",
       "    </tr>\n",
       "    <tr>\n",
       "      <th>3</th>\n",
       "      <td>1</td>\n",
       "      <td>49683</td>\n",
       "      <td>4</td>\n",
       "      <td>0</td>\n",
       "    </tr>\n",
       "    <tr>\n",
       "      <th>4</th>\n",
       "      <td>1</td>\n",
       "      <td>43633</td>\n",
       "      <td>5</td>\n",
       "      <td>1</td>\n",
       "    </tr>\n",
       "  </tbody>\n",
       "</table>\n",
       "</div>"
      ],
      "text/plain": [
       "   order_id  product_id  add_to_cart_order  reordered\n",
       "0         1       49302                  1          1\n",
       "1         1       11109                  2          1\n",
       "2         1       10246                  3          0\n",
       "3         1       49683                  4          0\n",
       "4         1       43633                  5          1"
      ]
     },
     "execution_count": 7,
     "metadata": {},
     "output_type": "execute_result"
    }
   ],
   "source": [
    "order_detail_small.head()"
   ]
  },
  {
   "cell_type": "markdown",
   "metadata": {
    "collapsed": true
   },
   "source": [
    "### Analyze Data in Apache Spark"
   ]
  },
  {
   "cell_type": "markdown",
   "metadata": {},
   "source": [
    "#### Load data into Spark as SparkDataFrame"
   ]
  },
  {
   "cell_type": "code",
   "execution_count": 8,
   "metadata": {
    "collapsed": true
   },
   "outputs": [],
   "source": [
    "spark = SparkSession.builder \\\n",
    "    .master(\"local\") \\\n",
    "    .appName(\"InstacartData\") \\\n",
    "    .getOrCreate()"
   ]
  },
  {
   "cell_type": "code",
   "execution_count": 9,
   "metadata": {
    "collapsed": true
   },
   "outputs": [],
   "source": [
    "df_aisles = spark.createDataFrame(aisles)\n",
    "df_departments = spark.createDataFrame(departments)\n",
    "df_products = spark.createDataFrame(products)\n",
    "df_orders = spark.createDataFrame(orders)\n",
    "df_order_detail = spark.createDataFrame(order_detail_small)"
   ]
  },
  {
   "cell_type": "code",
   "execution_count": 10,
   "metadata": {
    "collapsed": true
   },
   "outputs": [],
   "source": [
    "%matplotlib inline"
   ]
  },
  {
   "cell_type": "markdown",
   "metadata": {},
   "source": [
    "#### What hour of day do people usually order from Instacart?\n",
    "Method:  \n",
    "    SELECT order_hour_of_day, count(order_id)  \n",
    "    FROM orders  \n",
    "    GROUP BY order_hour_of_day  \n",
    "    ORDER BY order_hour_of_day"
   ]
  },
  {
   "cell_type": "code",
   "execution_count": 11,
   "metadata": {
    "collapsed": true
   },
   "outputs": [],
   "source": [
    "hour_result = df_orders.groupBy(df_orders.order_hour_of_day) \\\n",
    "    .count() \\\n",
    "    .sort(df_orders.order_hour_of_day) \\\n",
    "    .toPandas()"
   ]
  },
  {
   "cell_type": "code",
   "execution_count": 12,
   "metadata": {
    "scrolled": true
   },
   "outputs": [
    {
     "data": {
      "image/png": "[encoded data removed]",
      "text/plain": [
       "<matplotlib.figure.Figure at 0x1bf9a9a9b70>"
      ]
     },
     "metadata": {},
     "output_type": "display_data"
    }
   ],
   "source": [
    "hour_sum = hour_result['count'].sum()\n",
    "hour_result['count'] /= hour_sum\n",
    "hour_plot = hour_result['count'].plot(kind='bar')\n",
    "hour_plot.set_ylabel(\"Order Percentage\")\n",
    "hour_plot.set_xlabel(\"Hour of Day\")\n",
    "hour_plot.yaxis.set_major_formatter(FuncFormatter(lambda y, _: '{:.0%}'.format(y)))"
   ]
  },
  {
   "cell_type": "markdown",
   "metadata": {},
   "source": [
    "#### What day of week do people usually order from Instacart?\n",
    "Method:  \n",
    "    SELECT order_dow, count(order_id)  \n",
    "    FROM orders  \n",
    "    GROUP BY order_dow  \n",
    "    ORDER BY order_dow  "
   ]
  },
  {
   "cell_type": "code",
   "execution_count": 13,
   "metadata": {
    "collapsed": true
   },
   "outputs": [],
   "source": [
    "day_result = df_orders.groupBy(df_orders.order_dow) \\\n",
    "    .count() \\\n",
    "    .sort(df_orders.order_dow) \\\n",
    "    .toPandas()"
   ]
  },
  {
   "cell_type": "code",
   "execution_count": 14,
   "metadata": {
    "collapsed": true
   },
   "outputs": [],
   "source": [
    "def formatDOW(nth_day):\n",
    "    return {\n",
    "        0: 'Sat',\n",
    "        1: 'Sun',\n",
    "        2: 'Mon',\n",
    "        3: 'Tue',\n",
    "        4: 'Wed',\n",
    "        5: 'Thu',\n",
    "        6: 'Fri',\n",
    "    }.get(nth_day, 'Nan')"
   ]
  },
  {
   "cell_type": "code",
   "execution_count": 15,
   "metadata": {},
   "outputs": [
    {
     "data": {
      "image/png": "[encoded data removed]",
      "text/plain": [
       "<matplotlib.figure.Figure at 0x1bf801977f0>"
      ]
     },
     "metadata": {},
     "output_type": "display_data"
    }
   ],
   "source": [
    "day_sum = day_result['count'].sum()\n",
    "day_result['count'] /= day_sum\n",
    "day_plot = day_result['count'].plot(kind='bar')\n",
    "day_plot.set_ylabel(\"Order Percentage\")\n",
    "day_plot.set_xlabel(\"Day of Week\")\n",
    "day_plot.yaxis.set_major_formatter(FuncFormatter(lambda y, _: '{:.0%}'.format(y)))\n",
    "day_plot.xaxis.set_major_formatter(FuncFormatter(lambda x, _: formatDOW(x))) "
   ]
  },
  {
   "cell_type": "markdown",
   "metadata": {},
   "source": [
    "#### How often do users order again?\n",
    "Method:  \n",
    "    SELECT days_since_prior_order, count(order_id)  \n",
    "    FROM orders  \n",
    "    GROUP BY days_since_prior_order  \n",
    "    ORDER BY days_since_prior_order  "
   ]
  },
  {
   "cell_type": "code",
   "execution_count": 16,
   "metadata": {
    "collapsed": true
   },
   "outputs": [],
   "source": [
    "reorder_result = df_orders.groupBy(df_orders.days_since_prior_order) \\\n",
    "    .count() \\\n",
    "    .sort(df_orders.days_since_prior_order) \\\n",
    "    .toPandas()"
   ]
  },
  {
   "cell_type": "code",
   "execution_count": 17,
   "metadata": {},
   "outputs": [
    {
     "data": {
      "image/png": "[encoded data removed]",
      "text/plain": [
       "<matplotlib.figure.Figure at 0x1bf80251a90>"
      ]
     },
     "metadata": {},
     "output_type": "display_data"
    }
   ],
   "source": [
    "reorder_sum = reorder_result['count'].sum()\n",
    "reorder_result['count'] /= reorder_sum\n",
    "reorder_plot = reorder_result['count'].plot(kind='bar')\n",
    "reorder_plot.set_ylabel(\"Order Percentage\")\n",
    "reorder_plot.set_xlabel(\"Days Since Prior Order\")\n",
    "reorder_plot.yaxis.set_major_formatter(FuncFormatter(lambda y, _: '{:.0%}'.format(y)))"
   ]
  },
  {
   "cell_type": "markdown",
   "metadata": {},
   "source": [
    "#### How many times do users order?"
   ]
  },
  {
   "cell_type": "markdown",
   "metadata": {},
   "source": [
    "SELECT user_id, max(order_number)"
   ]
  },
  {
   "cell_type": "code",
   "execution_count": 18,
   "metadata": {
    "collapsed": true
   },
   "outputs": [],
   "source": [
    "times_result = df_orders.groupBy(df_orders.user_id) \\\n",
    "    .agg({\"order_number\": \"max\"}) \\\n",
    "    .withColumnRenamed('max(order_number)', 'total_orders') \\\n",
    "    .selectExpr('10 * FLOOR(total_orders/10.0)', 'user_id') \\\n",
    "    .toDF('total_orders_cat', 'user_id') \\\n",
    "    .groupBy('total_orders_cat') \\\n",
    "    .count() \\\n",
    "    .sort('total_orders_cat')\\\n",
    "    .toPandas()"
   ]
  },
  {
   "cell_type": "code",
   "execution_count": 19,
   "metadata": {
    "collapsed": true
   },
   "outputs": [],
   "source": [
    "def formatTotalOrders(x):\n",
    "    real_x = x * 10\n",
    "    return {\n",
    "        0: '(0,10)',\n",
    "        100: '[100,inf)',\n",
    "    }.get(real_x, '[%d,%d)' % (real_x, real_x+10))"
   ]
  },
  {
   "cell_type": "code",
   "execution_count": 20,
   "metadata": {},
   "outputs": [
    {
     "data": {
      "image/png": "[encoded data removed]",
      "text/plain": [
       "<matplotlib.figure.Figure at 0x1bf9a9a6ef0>"
      ]
     },
     "metadata": {},
     "output_type": "display_data"
    }
   ],
   "source": [
    "times_sum = times_result['count'].sum()\n",
    "times_result['count'] /= times_sum\n",
    "times_plot = times_result.plot(kind='bar', x='total_orders_cat', y='count', legend=False)\n",
    "times_plot.set_ylabel(\"User Percentage\")\n",
    "times_plot.set_xlabel(\"Total Number of Orders\")\n",
    "times_plot.yaxis.set_major_formatter(FuncFormatter(lambda y, _: '{:.0%}'.format(y)))\n",
    "times_plot.xaxis.set_major_formatter(FuncFormatter(lambda x, _: formatTotalOrders(x)))"
   ]
  },
  {
   "attachments": {},
   "cell_type": "markdown",
   "metadata": {},
   "source": [
    "#### What are the most popular groceries?\n",
    "SELECT TOP (15) * FROM  \n",
    "SELECT product_name, COUNT(order_id) as count\n",
    "FROM order_products  \n",
    "JOIN products ON order_products.product_id = products.product_id  \n",
    "GROUPBY products.product_id  \n",
    "ORDER BY count  "
   ]
  },
  {
   "cell_type": "code",
   "execution_count": 21,
   "metadata": {
    "collapsed": true
   },
   "outputs": [],
   "source": [
    "# Find Product IDs of Top 15 BestSelling Products\n",
    "top15_temp = df_order_detail.groupBy(df_order_detail.product_id) \\\n",
    "    .count() \\\n",
    "    .sort('count', ascending=False) \\\n",
    "    .limit(15)\n",
    "# Find Product Names    \n",
    "top15_detail = top15_temp.join(df_products, df_products.product_id == top15_temp.product_id) \\\n",
    "    .select('product_name', 'count') \\\n",
    "    .sort('count', ascending=False) \\\n",
    "    .toPandas()"
   ]
  },
  {
   "cell_type": "code",
   "execution_count": 22,
   "metadata": {
    "collapsed": true
   },
   "outputs": [],
   "source": [
    "total_orders = df_order_detail.select('order_id').distinct().count()"
   ]
  },
  {
   "cell_type": "code",
   "execution_count": 23,
   "metadata": {
    "collapsed": true
   },
   "outputs": [],
   "source": [
    "def formatProductName(i):\n",
    "    return top15_detail.product_name[i]"
   ]
  },
  {
   "cell_type": "code",
   "execution_count": 24,
   "metadata": {},
   "outputs": [
    {
     "data": {
      "image/png": "[encoded data removed]",
      "text/plain": [
       "<matplotlib.figure.Figure at 0x1bf80632c50>"
      ]
     },
     "metadata": {},
     "output_type": "display_data"
    }
   ],
   "source": [
    "top15_detail['count'] /= total_orders\n",
    "top15_plot = top15_detail.plot(kind='bar', legend=False)\n",
    "top15_plot.set_ylabel(\"Order Percentage\")\n",
    "top15_plot.set_xlabel(\"Product Name\")\n",
    "top15_plot.yaxis.set_major_formatter(FuncFormatter(lambda y, _: '{:.0%}'.format(y)))\n",
    "top15_plot.xaxis.set_major_formatter(FuncFormatter(lambda x, _: formatProductName(x)))"
   ]
  },
  {
   "cell_type": "markdown",
   "metadata": {
    "collapsed": true
   },
   "source": [
    "#### What aisles are reordered most often?\n",
    "SELECT TOP (15) * FROM  \n",
    "SELECT aisle, mean(reordered) as reorder_ratio  \n",
    "FROM order_products  \n",
    "JOIN products ON order_products.product_id = products.product_id  \n",
    "JOIN aisles ON products.aisle_id = aisles.aisle_id  \n",
    "GROUPBY aisle  \n",
    "ORDER BY reorder_ratio"
   ]
  },
  {
   "cell_type": "code",
   "execution_count": 25,
   "metadata": {
    "collapsed": true
   },
   "outputs": [],
   "source": [
    "reorder_rate_temp = df_order_detail.join(df_products, df_products.product_id == df_order_detail.product_id) \\\n",
    "    .groupBy('aisle_id') \\\n",
    "    .agg({\"reordered\": \"mean\"}) \\\n",
    "    .withColumnRenamed('avg(reordered)', 'reorder_rate') \\\n",
    "    .sort('reorder_rate', ascending=False) \\\n",
    "    .limit(15)\n",
    "\n",
    "reorder_rate_result = reorder_rate_temp.join(df_aisles, df_aisles.aisle_id == reorder_rate_temp.aisle_id) \\\n",
    "    .select('aisle', 'reorder_rate') \\\n",
    "    .sort('reorder_rate', ascending=False) \\\n",
    "    .toPandas()"
   ]
  },
  {
   "cell_type": "code",
   "execution_count": 26,
   "metadata": {
    "collapsed": true
   },
   "outputs": [],
   "source": [
    "def formatAisleName(i):\n",
    "    return reorder_rate_result.aisle[i]"
   ]
  },
  {
   "cell_type": "code",
   "execution_count": 27,
   "metadata": {},
   "outputs": [
    {
     "data": {
      "image/png": "[encoded data removed]",
      "text/plain": [
       "<matplotlib.figure.Figure at 0x1bf806cf470>"
      ]
     },
     "metadata": {},
     "output_type": "display_data"
    }
   ],
   "source": [
    "reorder_rate_plot = reorder_rate_result.plot(kind='bar', legend=False)\n",
    "reorder_rate_plot.set_ylabel(\"Reorder Ratio\")\n",
    "reorder_rate_plot.set_xlabel(\"Aisle Name\")\n",
    "reorder_rate_plot.yaxis.set_major_formatter(FuncFormatter(lambda y, _: '{:.0%}'.format(y)))\n",
    "reorder_rate_plot.xaxis.set_major_formatter(FuncFormatter(lambda x, _: formatAisleName(x)))"
   ]
  },
  {
   "cell_type": "markdown",
   "metadata": {},
   "source": [
    "#### Linear Regression using Add-to-Order to predict reorder ratio"
   ]
  },
  {
   "cell_type": "code",
   "execution_count": 32,
   "metadata": {
    "collapsed": true
   },
   "outputs": [],
   "source": [
    "# Prepare Spark DataFrame\n",
    "order_reorder = df_order_detail.select('add_to_cart_order', 'reordered') \\\n",
    "    .groupBy('add_to_cart_order') \\\n",
    "    .agg({\"reordered\": \"mean\"}) \\\n",
    "    .withColumnRenamed('avg(reordered)', 'reorder_ratio') \\\n",
    "    .filter(df_order_detail.add_to_cart_order < 50) \\\n",
    "    .sort('add_to_cart_order')\n",
    "\n",
    "corr_result = order_reorder.toPandas()\n",
    "\n",
    "assembler = VectorAssembler(inputCols=[\"add_to_cart_order\"], outputCol=\"features\")\n",
    "output = assembler.transform(order_reorder)"
   ]
  },
  {
   "cell_type": "code",
   "execution_count": 33,
   "metadata": {},
   "outputs": [
    {
     "name": "stdout",
     "output_type": "stream",
     "text": [
      "Coefficients: [-0.00607966402266]\n",
      "Intercept: 0.635881186938825\n"
     ]
    }
   ],
   "source": [
    "# Fit linear regression\n",
    "lr = LinearRegression() \\\n",
    "  .setLabelCol(\"reorder_ratio\")\n",
    "lrModel = lr.fit(output)\n",
    "\n",
    "print(\"Coefficients: %s\" % str(lrModel.coefficients))\n",
    "print(\"Intercept: %s\" % str(lrModel.intercept))"
   ]
  },
  {
   "cell_type": "code",
   "execution_count": 34,
   "metadata": {},
   "outputs": [
    {
     "data": {
      "image/png": "[encoded data removed]",
      "text/plain": [
       "<matplotlib.figure.Figure at 0x1bf808c8860>"
      ]
     },
     "metadata": {},
     "output_type": "display_data"
    }
   ],
   "source": [
    "corr_plot = corr_result.plot(x = 'add_to_cart_order', y = 'reorder_ratio', label = 'Real Value')\n",
    "prediction_values = [lrModel.coefficients * i + lrModel.intercept for i in corr_result.add_to_cart_order]\n",
    "prediction = plt.plot(corr_result.add_to_cart_order, prediction_values, label='Regression Prediction', linestyle='--')\n",
    "corr_plot.set_ylabel(\"Reorder Ratio\")\n",
    "corr_plot.set_xlabel(\"Add-to-Cart Order\")\n",
    "plt.legend(handles = prediction)\n",
    "corr_plot.yaxis.set_major_formatter(FuncFormatter(lambda y, _: '{:.0%}'.format(y)))"
   ]
  },
  {
   "cell_type": "markdown",
   "metadata": {
    "collapsed": true
   },
   "source": [
    "#### What aisles are frequenly bought together?"
   ]
  },
  {
   "cell_type": "code",
   "execution_count": 107,
   "metadata": {
    "collapsed": true
   },
   "outputs": [],
   "source": [
    "# Prepare Spark DataFrame\n",
    "order_aisle = df_order_detail.join(df_products, df_products.product_id == df_order_detail.product_id) \\\n",
    "    .join(df_aisles, df_aisles.aisle_id == df_products.aisle_id) \\\n",
    "    .select(df_order_detail.order_id, df_aisles.aisle) \\\n",
    "    .filter(\"aisle NOT LIKE '%fruits' AND aisle NOT LIKE '%vegetables'\") \\\n",
    "    .dropDuplicates() \\\n",
    "    .persist()"
   ]
  },
  {
   "cell_type": "code",
   "execution_count": 108,
   "metadata": {},
   "outputs": [
    {
     "name": "stdout",
     "output_type": "stream",
     "text": [
      "Before transformation:\n",
      "+--------+------+\n",
      "|order_id| aisle|\n",
      "+--------+------+\n",
      "| 3236948|coffee|\n",
      "| 3334306|coffee|\n",
      "| 2833450|coffee|\n",
      "| 1807947|coffee|\n",
      "| 1328800|coffee|\n",
      "|    4468|coffee|\n",
      "| 3163338|coffee|\n",
      "| 2483455|coffee|\n",
      "| 1966767|coffee|\n",
      "|  761521|coffee|\n",
      "+--------+------+\n",
      "only showing top 10 rows\n",
      "\n"
     ]
    }
   ],
   "source": [
    "print('Before transformation:')\n",
    "order_aisle.show(10)"
   ]
  },
  {
   "cell_type": "code",
   "execution_count": 109,
   "metadata": {
    "collapsed": true
   },
   "outputs": [],
   "source": [
    "transactions = order_aisle.groupBy(order_aisle.order_id) \\\n",
    "    .agg({'aisle' : 'collect_list'}) \\\n",
    "    .withColumnRenamed('collect_list(aisle)', 'items') \\\n",
    "    .persist()"
   ]
  },
  {
   "cell_type": "code",
   "execution_count": 110,
   "metadata": {},
   "outputs": [
    {
     "name": "stdout",
     "output_type": "stream",
     "text": [
      "After transformation:\n",
      "+--------+----------------------------------------------------------------------------------------------------+\n",
      "|order_id|                                                                                               items|\n",
      "+--------+----------------------------------------------------------------------------------------------------+\n",
      "|    3091|                                                     [nuts seeds dried fruit, tea, breakfast bakery]|\n",
      "|    4590|     [energy granola bars, frozen meals, fresh dips tapenades, trail mix snack mix, packaged cheese]|\n",
      "|   10156|[packaged cheese, yogurt, pasta sauce, breakfast bakery, frozen vegan vegetarian, dry pasta, soy ...|\n",
      "|   13248|[soup broth bouillon, pasta sauce, tea, cereal, frozen meals, fresh dips tapenades, frozen appeti...|\n",
      "|   16530|                      [refrigerated, asian foods, juice nectars, fresh herbs, prepared soups salads]|\n",
      "+--------+----------------------------------------------------------------------------------------------------+\n",
      "only showing top 5 rows\n",
      "\n"
     ]
    }
   ],
   "source": [
    "print('After transformation:')\n",
    "transactions.show(5, truncate=100)"
   ]
  },
  {
   "cell_type": "code",
   "execution_count": 111,
   "metadata": {
    "collapsed": true
   },
   "outputs": [],
   "source": [
    "from pyspark.ml.fpm import FPGrowth\n",
    "\n",
    "fpGrowth = FPGrowth(itemsCol=\"items\", minSupport=0.05, minConfidence=0)\n",
    "model = fpGrowth.fit(transactions)"
   ]
  },
  {
   "cell_type": "code",
   "execution_count": 114,
   "metadata": {},
   "outputs": [
    {
     "name": "stdout",
     "output_type": "stream",
     "text": [
      "+------------------------------------------------+-----+\n",
      "|                                           items| freq|\n",
      "+------------------------------------------------+-----+\n",
      "|                                        [yogurt]|33249|\n",
      "|                               [packaged cheese]|31199|\n",
      "|                       [packaged cheese, yogurt]|11548|\n",
      "|                                          [milk]|29358|\n",
      "|                         [milk, packaged cheese]|10013|\n",
      "|                                  [milk, yogurt]|11414|\n",
      "|                 [water seltzer sparkling water]|26943|\n",
      "|[water seltzer sparkling water, packaged cheese]| 6944|\n",
      "|         [water seltzer sparkling water, yogurt]| 7632|\n",
      "|                                [chips pretzels]|23182|\n",
      "|               [chips pretzels, packaged cheese]| 7994|\n",
      "|                        [chips pretzels, yogurt]| 7638|\n",
      "|                               [soy lactosefree]|22373|\n",
      "|                       [soy lactosefree, yogurt]| 7680|\n",
      "|                                         [bread]|21488|\n",
      "|                                   [bread, milk]| 7481|\n",
      "|                        [bread, packaged cheese]| 8059|\n",
      "|                                 [bread, yogurt]| 7958|\n",
      "|                                          [eggs]|19348|\n",
      "|                         [eggs, packaged cheese]| 6729|\n",
      "+------------------------------------------------+-----+\n",
      "only showing top 20 rows\n",
      "\n"
     ]
    }
   ],
   "source": [
    "# Display frequent itemsets.\n",
    "model.freqItemsets.show(truncate=100)"
   ]
  },
  {
   "cell_type": "code",
   "execution_count": 115,
   "metadata": {},
   "outputs": [
    {
     "name": "stdout",
     "output_type": "stream",
     "text": [
      "+-------------------------------+-------------------------------+-------------------+\n",
      "|                     antecedent|                     consequent|         confidence|\n",
      "+-------------------------------+-------------------------------+-------------------+\n",
      "|                   [lunch meat]|              [packaged cheese]|0.45711678832116787|\n",
      "|                         [milk]|                       [yogurt]|0.38878670209142313|\n",
      "|                        [bread]|              [packaged cheese]| 0.3750465376023827|\n",
      "|                        [bread]|                       [yogurt]| 0.3703462397617275|\n",
      "|              [packaged cheese]|                       [yogurt]|0.37014006859194204|\n",
      "|                         [eggs]|                       [yogurt]| 0.3622079801529874|\n",
      "|                        [bread]|                         [milk]|0.34814780342516755|\n",
      "|                         [eggs]|              [packaged cheese]| 0.3477878850527186|\n",
      "|                       [yogurt]|              [packaged cheese]| 0.3473187163523715|\n",
      "|               [chips pretzels]|              [packaged cheese]|0.34483651108618757|\n",
      "|                       [yogurt]|                         [milk]|0.34328851995548737|\n",
      "|              [soy lactosefree]|                       [yogurt]|0.34327090689670586|\n",
      "|                         [milk]|              [packaged cheese]|0.34106546767490975|\n",
      "|               [chips pretzels]|                       [yogurt]|0.32947976878612717|\n",
      "|              [packaged cheese]|                         [milk]| 0.3209397737106959|\n",
      "|[water seltzer sparkling water]|                       [yogurt]|0.28326466985859033|\n",
      "|              [packaged cheese]|                        [bread]|0.25830956120388476|\n",
      "|[water seltzer sparkling water]|              [packaged cheese]|0.25772928033255393|\n",
      "|              [packaged cheese]|               [chips pretzels]|0.25622616109490687|\n",
      "|                         [milk]|                        [bread]|0.25481981061380204|\n",
      "|                       [yogurt]|                        [bread]|0.23934554422689405|\n",
      "|                       [yogurt]|              [soy lactosefree]| 0.2309843905079852|\n",
      "|                       [yogurt]|               [chips pretzels]|0.22972119462239465|\n",
      "|                       [yogurt]|[water seltzer sparkling water]| 0.2295407380673103|\n",
      "|              [packaged cheese]|[water seltzer sparkling water]|0.22257123625757236|\n",
      "|              [packaged cheese]|                         [eggs]|  0.215679989743261|\n",
      "|                       [yogurt]|                         [eggs]| 0.2107732563385365|\n",
      "|              [packaged cheese]|                   [lunch meat]|0.20875669091958077|\n",
      "+-------------------------------+-------------------------------+-------------------+\n",
      "\n"
     ]
    }
   ],
   "source": [
    "# Display generated association rules.\n",
    "model.associationRules.sort('confidence', ascending=False).show(50, truncate=100)"
   ]
  },
  {
   "cell_type": "code",
   "execution_count": null,
   "metadata": {
    "collapsed": true
   },
   "outputs": [],
   "source": []
  }
 ],
 "metadata": {
  "kernelspec": {
   "display_name": "Python 3",
   "language": "python",
   "name": "python3"
  },
  "language_info": {
   "codemirror_mode": {
    "name": "ipython",
    "version": 3
   },
   "file_extension": ".py",
   "mimetype": "text/x-python",
   "name": "python",
   "nbconvert_exporter": "python",
   "pygments_lexer": "ipython3",
   "version": "3.5.4"
  }
 },
 "nbformat": 4,
 "nbformat_minor": 2
}
